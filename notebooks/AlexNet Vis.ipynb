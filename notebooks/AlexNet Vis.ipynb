{
 "cells": [
  {
   "cell_type": "code",
   "execution_count": 1,
   "metadata": {},
   "outputs": [],
   "source": [
    "import os\n",
    "import torch\n",
    "import matplotlib.pyplot as plt\n",
    "\n",
    "from homo_explico.models.alexnet import AlexNet\n",
    "from homo_explico.functions.deep_dream import DeepDream\n",
    "\n",
    "from torchvision import datasets, transforms\n",
    "\n",
    "%load_ext autoreload\n",
    "%autoreload 2"
   ]
  },
  {
   "cell_type": "code",
   "execution_count": 2,
   "metadata": {},
   "outputs": [],
   "source": [
    "model = AlexNet()\n",
    "model.load_state_dict(torch.load('/home/tgebhart/projects/homo_explico/logdir/models/alexnet_cifar.pt'))"
   ]
  },
  {
   "cell_type": "code",
   "execution_count": 3,
   "metadata": {},
   "outputs": [],
   "source": [
    "test_loader = torch.utils.data.DataLoader(\n",
    "    datasets.CIFAR10('../../data/cifar', train=False, download=False, transform=transforms.Compose([\n",
    "                       transforms.ToTensor(),\n",
    "                   ])), batch_size=1, shuffle=False)"
   ]
  },
  {
   "cell_type": "code",
   "execution_count": 4,
   "metadata": {},
   "outputs": [],
   "source": [
    "# for data, target in test_loader:\n",
    "#     print(data.shape, target)\n",
    "d, t = None, None\n",
    "ioi = 1\n",
    "iii = 0\n",
    "for data, target in test_loader:\n",
    "    if iii == ioi:\n",
    "        d = data\n",
    "        t = target\n",
    "        break\n",
    "    iii += 1"
   ]
  },
  {
   "cell_type": "code",
   "execution_count": 5,
   "metadata": {},
   "outputs": [
    {
     "data": {
      "image/png": "[encoded data removed]",
      "text/plain": [
       "<Figure size 432x288 with 1 Axes>"
      ]
     },
     "metadata": {
      "needs_background": "light"
     },
     "output_type": "display_data"
    }
   ],
   "source": [
    "d.shape\n",
    "pixels = d.numpy().reshape(3,32,32).transpose([1, 2, 0])\n",
    "\n",
    "# Plot\n",
    "label = t.numpy()[0]\n",
    "plt.title('Class {}'.format(label))\n",
    "plt.imshow(pixels, interpolation='nearest')\n",
    "plt.show()"
   ]
  },
  {
   "cell_type": "code",
   "execution_count": null,
   "metadata": {},
   "outputs": [],
   "source": []
  },
  {
   "cell_type": "code",
   "execution_count": 6,
   "metadata": {},
   "outputs": [],
   "source": [
    "dd = DeepDream(model, d)"
   ]
  },
  {
   "cell_type": "code",
   "execution_count": null,
   "metadata": {
    "scrolled": true
   },
   "outputs": [
    {
     "name": "stdout",
     "output_type": "stream",
     "text": [
      "(3, 32, 32)\n",
      "layer:  1\n",
      "layer:  2\n",
      "layer:  3\n",
      "layer:  4\n",
      "layer:  5\n",
      "layer:  6\n",
      "layer:  7\n",
      "layer:  8\n",
      "layer:  9\n",
      "layer:  10\n",
      "final addidition to enums...\n",
      "enums size 214666424\n",
      "creating filtration object...\n"
     ]
    }
   ],
   "source": [
    "dd.dream(percentile=99)"
   ]
  },
  {
   "cell_type": "code",
   "execution_count": null,
   "metadata": {},
   "outputs": [],
   "source": []
  },
  {
   "cell_type": "code",
   "execution_count": null,
   "metadata": {},
   "outputs": [],
   "source": []
  }
 ],
 "metadata": {
  "kernelspec": {
   "display_name": "Python 3",
   "language": "python",
   "name": "python3"
  },
  "language_info": {
   "codemirror_mode": {
    "name": "ipython",
    "version": 3
   },
   "file_extension": ".py",
   "mimetype": "text/x-python",
   "name": "python",
   "nbconvert_exporter": "python",
   "pygments_lexer": "ipython3",
   "version": "3.6.7"
  }
 },
 "nbformat": 4,
 "nbformat_minor": 2
}
